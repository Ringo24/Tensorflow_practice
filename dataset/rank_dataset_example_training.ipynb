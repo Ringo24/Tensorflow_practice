{
 "cells": [
  {
   "cell_type": "code",
   "execution_count": 1,
   "metadata": {},
   "outputs": [],
   "source": [
    "import sys\n",
    "sys.path.append('C:/Work/pythonshizai/07_src')"
   ]
  },
  {
   "cell_type": "code",
   "execution_count": 2,
   "metadata": {},
   "outputs": [],
   "source": [
    "import numpy as np\n",
    "import pandas as pd\n",
    "import argparse\n",
    "import inject\n",
    "import sys\n",
    "import os\n",
    "from configparser import ConfigParser"
   ]
  },
  {
   "cell_type": "code",
   "execution_count": 3,
   "metadata": {},
   "outputs": [],
   "source": [
    "import tensorflow as tf"
   ]
  },
  {
   "cell_type": "code",
   "execution_count": 4,
   "metadata": {},
   "outputs": [],
   "source": [
    "from C7013.lib import const, message\n",
    "from C7013.lib.C7013_04_rank_training_task import C7013_04_rank_training_task\n",
    "from C7013.lib.rank_model_helper import RankModelHelper\n",
    "from C7013.lib.rank_model_helper import RankTrainingGenerator\n",
    "from C7013.lib.C7013_04_rank_flag_forced_correction_task import C7013_04_rank_flag_forced_correction_task \n",
    "from C7013.lib import rank_utils\n",
    "from C7013.lib import onehot_utils"
   ]
  },
  {
   "cell_type": "code",
   "execution_count": 5,
   "metadata": {},
   "outputs": [
    {
     "name": "stdout",
     "output_type": "stream",
     "text": [
      "ランク学習タスクを実行します。\n"
     ]
    }
   ],
   "source": [
    "print('ランク学習タスクを実行します。')"
   ]
  },
  {
   "cell_type": "code",
   "execution_count": 6,
   "metadata": {},
   "outputs": [],
   "source": [
    "rank_model_helper: RankModelHelper = RankModelHelper()"
   ]
  },
  {
   "cell_type": "code",
   "execution_count": 7,
   "metadata": {},
   "outputs": [],
   "source": [
    "epochs = const.APP_CONFIG['rank_config']['epochs']\n",
    "batch_size = const.APP_CONFIG['rank_config']['batch_size']\n",
    "workers = const.APP_CONFIG['rank_config']['workers']"
   ]
  },
  {
   "cell_type": "code",
   "execution_count": 8,
   "metadata": {},
   "outputs": [
    {
     "name": "stdout",
     "output_type": "stream",
     "text": [
      "Training Rank Model batch_size=32, epochs=20, workers=1\n"
     ]
    }
   ],
   "source": [
    "print(f'Training Rank Model batch_size={batch_size}, epochs={epochs}, workers={workers}')"
   ]
  },
  {
   "cell_type": "code",
   "execution_count": 9,
   "metadata": {},
   "outputs": [],
   "source": [
    "training_file_path = 'C:/Work/PythonShizai/07_src/C7013/data/rank_training_data.csv'"
   ]
  },
  {
   "cell_type": "code",
   "execution_count": 10,
   "metadata": {},
   "outputs": [],
   "source": [
    "validation_file_path = 'C:/Work/PythonShizai/07_src/C7013/data/rank_validation_data.csv'"
   ]
  },
  {
   "cell_type": "code",
   "execution_count": 12,
   "metadata": {},
   "outputs": [
    {
     "name": "stdout",
     "output_type": "stream",
     "text": [
      "[2021-03-03 15:14:20,824][INFO    ](C7013_04_rank_flag_forced_correction_task.py:37) フラグ強制補正タスクを実行します。\n"
     ]
    }
   ],
   "source": [
    "input_data = pd.read_csv(training_file_path, sep=',', encoding='utf-8')\n",
    "if input_data.empty:\n",
    "    raise RuntimeError(f\"データが存在しません。file_path={training_file_path}\")\n",
    "flag_forced_correction = C7013_04_rank_flag_forced_correction_task()\n",
    "_input_data: pd.DataFrame = flag_forced_correction.execute(input_data)"
   ]
  },
  {
   "cell_type": "code",
   "execution_count": 13,
   "metadata": {
    "scrolled": true
   },
   "outputs": [
    {
     "data": {
      "text/html": [
       "<div>\n",
       "<style scoped>\n",
       "    .dataframe tbody tr th:only-of-type {\n",
       "        vertical-align: middle;\n",
       "    }\n",
       "\n",
       "    .dataframe tbody tr th {\n",
       "        vertical-align: top;\n",
       "    }\n",
       "\n",
       "    .dataframe thead th {\n",
       "        text-align: right;\n",
       "    }\n",
       "</style>\n",
       "<table border=\"1\" class=\"dataframe\">\n",
       "  <thead>\n",
       "    <tr style=\"text-align: right;\">\n",
       "      <th></th>\n",
       "      <th>rank_system</th>\n",
       "      <th>rule_no</th>\n",
       "      <th>ordercontents</th>\n",
       "      <th>rank_flag01</th>\n",
       "      <th>rank_flag02</th>\n",
       "      <th>rank_flag03</th>\n",
       "      <th>rank_flag04</th>\n",
       "      <th>rank_flag05</th>\n",
       "      <th>rank_flag06</th>\n",
       "      <th>rank_flag07</th>\n",
       "      <th>...</th>\n",
       "      <th>rank_flag62</th>\n",
       "      <th>rank_flag63</th>\n",
       "      <th>rank_flag64</th>\n",
       "      <th>rank_flag65</th>\n",
       "      <th>rank_flag66</th>\n",
       "      <th>rank_flag67</th>\n",
       "      <th>rank_flag68</th>\n",
       "      <th>rank_flag69</th>\n",
       "      <th>rank_flag70</th>\n",
       "      <th>rank_flag71</th>\n",
       "    </tr>\n",
       "  </thead>\n",
       "  <tbody>\n",
       "    <tr>\n",
       "      <th>0</th>\n",
       "      <td>300</td>\n",
       "      <td>12</td>\n",
       "      <td>9</td>\n",
       "      <td>0</td>\n",
       "      <td>0</td>\n",
       "      <td>0</td>\n",
       "      <td>0</td>\n",
       "      <td>0</td>\n",
       "      <td>0</td>\n",
       "      <td>0</td>\n",
       "      <td>...</td>\n",
       "      <td>0</td>\n",
       "      <td>0</td>\n",
       "      <td>0</td>\n",
       "      <td>0</td>\n",
       "      <td>0</td>\n",
       "      <td>0</td>\n",
       "      <td>0</td>\n",
       "      <td>0</td>\n",
       "      <td>0</td>\n",
       "      <td>0</td>\n",
       "    </tr>\n",
       "    <tr>\n",
       "      <th>1</th>\n",
       "      <td>500</td>\n",
       "      <td>36</td>\n",
       "      <td>1</td>\n",
       "      <td>0</td>\n",
       "      <td>0</td>\n",
       "      <td>1</td>\n",
       "      <td>1</td>\n",
       "      <td>0</td>\n",
       "      <td>1</td>\n",
       "      <td>0</td>\n",
       "      <td>...</td>\n",
       "      <td>0</td>\n",
       "      <td>0</td>\n",
       "      <td>0</td>\n",
       "      <td>0</td>\n",
       "      <td>0</td>\n",
       "      <td>0</td>\n",
       "      <td>0</td>\n",
       "      <td>0</td>\n",
       "      <td>0</td>\n",
       "      <td>0</td>\n",
       "    </tr>\n",
       "    <tr>\n",
       "      <th>2</th>\n",
       "      <td>400</td>\n",
       "      <td>26</td>\n",
       "      <td>2</td>\n",
       "      <td>0</td>\n",
       "      <td>1</td>\n",
       "      <td>0</td>\n",
       "      <td>0</td>\n",
       "      <td>0</td>\n",
       "      <td>0</td>\n",
       "      <td>0</td>\n",
       "      <td>...</td>\n",
       "      <td>0</td>\n",
       "      <td>0</td>\n",
       "      <td>0</td>\n",
       "      <td>0</td>\n",
       "      <td>0</td>\n",
       "      <td>0</td>\n",
       "      <td>0</td>\n",
       "      <td>0</td>\n",
       "      <td>0</td>\n",
       "      <td>0</td>\n",
       "    </tr>\n",
       "    <tr>\n",
       "      <th>3</th>\n",
       "      <td>400</td>\n",
       "      <td>21</td>\n",
       "      <td>10</td>\n",
       "      <td>0</td>\n",
       "      <td>0</td>\n",
       "      <td>0</td>\n",
       "      <td>1</td>\n",
       "      <td>0</td>\n",
       "      <td>0</td>\n",
       "      <td>1</td>\n",
       "      <td>...</td>\n",
       "      <td>0</td>\n",
       "      <td>0</td>\n",
       "      <td>0</td>\n",
       "      <td>0</td>\n",
       "      <td>0</td>\n",
       "      <td>0</td>\n",
       "      <td>0</td>\n",
       "      <td>0</td>\n",
       "      <td>0</td>\n",
       "      <td>0</td>\n",
       "    </tr>\n",
       "    <tr>\n",
       "      <th>4</th>\n",
       "      <td>500</td>\n",
       "      <td>31;39</td>\n",
       "      <td>9</td>\n",
       "      <td>0</td>\n",
       "      <td>0</td>\n",
       "      <td>0</td>\n",
       "      <td>1</td>\n",
       "      <td>1</td>\n",
       "      <td>0</td>\n",
       "      <td>0</td>\n",
       "      <td>...</td>\n",
       "      <td>0</td>\n",
       "      <td>0</td>\n",
       "      <td>0</td>\n",
       "      <td>0</td>\n",
       "      <td>0</td>\n",
       "      <td>0</td>\n",
       "      <td>0</td>\n",
       "      <td>0</td>\n",
       "      <td>0</td>\n",
       "      <td>0</td>\n",
       "    </tr>\n",
       "  </tbody>\n",
       "</table>\n",
       "<p>5 rows × 74 columns</p>\n",
       "</div>"
      ],
      "text/plain": [
       "   rank_system rule_no  ordercontents  rank_flag01  rank_flag02  rank_flag03  \\\n",
       "0          300      12              9            0            0            0   \n",
       "1          500      36              1            0            0            1   \n",
       "2          400      26              2            0            1            0   \n",
       "3          400      21             10            0            0            0   \n",
       "4          500   31;39              9            0            0            0   \n",
       "\n",
       "   rank_flag04  rank_flag05  rank_flag06  rank_flag07  ...  rank_flag62  \\\n",
       "0            0            0            0            0  ...            0   \n",
       "1            1            0            1            0  ...            0   \n",
       "2            0            0            0            0  ...            0   \n",
       "3            1            0            0            1  ...            0   \n",
       "4            1            1            0            0  ...            0   \n",
       "\n",
       "   rank_flag63  rank_flag64  rank_flag65  rank_flag66  rank_flag67  \\\n",
       "0            0            0            0            0            0   \n",
       "1            0            0            0            0            0   \n",
       "2            0            0            0            0            0   \n",
       "3            0            0            0            0            0   \n",
       "4            0            0            0            0            0   \n",
       "\n",
       "   rank_flag68  rank_flag69  rank_flag70  rank_flag71  \n",
       "0            0            0            0            0  \n",
       "1            0            0            0            0  \n",
       "2            0            0            0            0  \n",
       "3            0            0            0            0  \n",
       "4            0            0            0            0  \n",
       "\n",
       "[5 rows x 74 columns]"
      ]
     },
     "execution_count": 13,
     "metadata": {},
     "output_type": "execute_result"
    }
   ],
   "source": [
    "_input_data.head()"
   ]
  },
  {
   "cell_type": "code",
   "execution_count": 14,
   "metadata": {},
   "outputs": [
    {
     "name": "stdout",
     "output_type": "stream",
     "text": [
      "[2021-03-03 15:14:30,324][INFO    ](C7013_04_rank_flag_forced_correction_task.py:37) フラグ強制補正タスクを実行します。\n"
     ]
    }
   ],
   "source": [
    "val_data = pd.read_csv(validation_file_path, sep=',', encoding='utf-8')\n",
    "if val_data.empty:\n",
    "    raise RuntimeError(f\"データが存在しません。file_path={validation_file_path}\")\n",
    "flag_forced_correction = C7013_04_rank_flag_forced_correction_task()\n",
    "_val_data: pd.DataFrame = flag_forced_correction.execute(val_data)"
   ]
  },
  {
   "cell_type": "code",
   "execution_count": 16,
   "metadata": {},
   "outputs": [],
   "source": [
    "train_examples = rank_utils.input_data_transform(_input_data)\n",
    "validation_examples = rank_utils.input_data_transform(_val_data)"
   ]
  },
  {
   "cell_type": "code",
   "execution_count": 17,
   "metadata": {},
   "outputs": [
    {
     "data": {
      "text/plain": [
       "(43829, 83)"
      ]
     },
     "execution_count": 17,
     "metadata": {},
     "output_type": "execute_result"
    }
   ],
   "source": [
    "train_examples.shape"
   ]
  },
  {
   "cell_type": "code",
   "execution_count": 18,
   "metadata": {
    "scrolled": true
   },
   "outputs": [
    {
     "data": {
      "text/plain": [
       "(10565, 83)"
      ]
     },
     "execution_count": 18,
     "metadata": {},
     "output_type": "execute_result"
    }
   ],
   "source": [
    "validation_examples.shape"
   ]
  },
  {
   "cell_type": "code",
   "execution_count": 19,
   "metadata": {},
   "outputs": [],
   "source": [
    "labels_onehot = rank_utils.target_data_transform(_input_data)\n",
    "val_labels_onehot = rank_utils.target_data_transform(_val_data)"
   ]
  },
  {
   "cell_type": "code",
   "execution_count": 20,
   "metadata": {},
   "outputs": [
    {
     "data": {
      "text/plain": [
       "(43829, 5)"
      ]
     },
     "execution_count": 20,
     "metadata": {},
     "output_type": "execute_result"
    }
   ],
   "source": [
    "labels_onehot.shape"
   ]
  },
  {
   "cell_type": "code",
   "execution_count": 21,
   "metadata": {},
   "outputs": [],
   "source": [
    "train_labels_a = labels_onehot[:,0:1]\n",
    "train_labels_b = labels_onehot[:,1:2]\n",
    "train_labels_c = labels_onehot[:,2:3]\n",
    "train_labels_d = labels_onehot[:,3:4]\n",
    "train_labels_bar = labels_onehot[:,4:5]"
   ]
  },
  {
   "cell_type": "code",
   "execution_count": 22,
   "metadata": {},
   "outputs": [],
   "source": [
    "val_labels_a = val_labels_onehot[:,0:1]\n",
    "val_labels_b = val_labels_onehot[:,1:2]\n",
    "val_labels_c = val_labels_onehot[:,2:3]\n",
    "val_labels_d = val_labels_onehot[:,3:4]\n",
    "val_labels_bar = val_labels_onehot[:,4:5]"
   ]
  },
  {
   "cell_type": "code",
   "execution_count": 25,
   "metadata": {},
   "outputs": [],
   "source": [
    "train_dataset_a = tf.data.Dataset.from_tensor_slices((train_examples, train_labels_a))\n",
    "train_dataset_b = tf.data.Dataset.from_tensor_slices((train_examples, train_labels_b))\n",
    "train_dataset_c = tf.data.Dataset.from_tensor_slices((train_examples, train_labels_c))\n",
    "train_dataset_d = tf.data.Dataset.from_tensor_slices((train_examples, train_labels_d))\n",
    "train_dataset_bar = tf.data.Dataset.from_tensor_slices((train_examples, train_labels_bar))"
   ]
  },
  {
   "cell_type": "code",
   "execution_count": 26,
   "metadata": {},
   "outputs": [],
   "source": [
    "validation_dataset_a = tf.data.Dataset.from_tensor_slices((validation_examples, val_labels_a))\n",
    "validation_dataset_b = tf.data.Dataset.from_tensor_slices((validation_examples, val_labels_b))\n",
    "validation_dataset_c = tf.data.Dataset.from_tensor_slices((validation_examples, val_labels_c))\n",
    "validation_dataset_d = tf.data.Dataset.from_tensor_slices((validation_examples, val_labels_d))\n",
    "validation_dataset_bar = tf.data.Dataset.from_tensor_slices((validation_examples, val_labels_bar))"
   ]
  },
  {
   "cell_type": "code",
   "execution_count": 28,
   "metadata": {},
   "outputs": [],
   "source": [
    "SHUFFLE_BUFFER_SIZE = 100"
   ]
  },
  {
   "cell_type": "code",
   "execution_count": 29,
   "metadata": {},
   "outputs": [],
   "source": [
    "train_dataset_a = train_dataset_a.shuffle(SHUFFLE_BUFFER_SIZE).batch(batch_size)\n",
    "train_dataset_b = train_dataset_b.shuffle(SHUFFLE_BUFFER_SIZE).batch(batch_size)\n",
    "train_dataset_c = train_dataset_c.shuffle(SHUFFLE_BUFFER_SIZE).batch(batch_size)\n",
    "train_dataset_d = train_dataset_d.shuffle(SHUFFLE_BUFFER_SIZE).batch(batch_size)\n",
    "train_dataset_bar = train_dataset_bar.shuffle(SHUFFLE_BUFFER_SIZE).batch(batch_size)"
   ]
  },
  {
   "cell_type": "code",
   "execution_count": 30,
   "metadata": {},
   "outputs": [],
   "source": [
    "validation_dataset_a = validation_dataset_a.shuffle(SHUFFLE_BUFFER_SIZE).batch(batch_size)\n",
    "validation_dataset_b = validation_dataset_b.shuffle(SHUFFLE_BUFFER_SIZE).batch(batch_size)\n",
    "validation_dataset_c = validation_dataset_c.shuffle(SHUFFLE_BUFFER_SIZE).batch(batch_size)\n",
    "validation_dataset_d = validation_dataset_d.shuffle(SHUFFLE_BUFFER_SIZE).batch(batch_size)\n",
    "validation_dataset_bar = validation_dataset_bar.shuffle(SHUFFLE_BUFFER_SIZE).batch(batch_size)"
   ]
  },
  {
   "cell_type": "code",
   "execution_count": 32,
   "metadata": {},
   "outputs": [
    {
     "name": "stdout",
     "output_type": "stream",
     "text": [
      "Model: \"rank_a_model\"\n",
      "_________________________________________________________________\n",
      "Layer (type)                 Output Shape              Param #   \n",
      "=================================================================\n",
      "rank_input (InputLayer)      [(None, 83)]              0         \n",
      "_________________________________________________________________\n",
      "middle_layer1 (Dense)        (None, 55)                4620      \n",
      "_________________________________________________________________\n",
      "middle_layer2 (Dropout)      (None, 55)                0         \n",
      "_________________________________________________________________\n",
      "rank_output (Dense)          (None, 1)                 56        \n",
      "=================================================================\n",
      "Total params: 4,676\n",
      "Trainable params: 4,676\n",
      "Non-trainable params: 0\n",
      "_________________________________________________________________\n"
     ]
    }
   ],
   "source": [
    "_rank_a_model = rank_model_helper._create_binary_crossentropy_model('rank_a_model')\n",
    "_rank_a_model.compile(optimizer='adam', loss='binary_crossentropy', metrics=['accuracy'])\n",
    "_rank_a_model.summary()"
   ]
  },
  {
   "cell_type": "code",
   "execution_count": 33,
   "metadata": {},
   "outputs": [
    {
     "name": "stdout",
     "output_type": "stream",
     "text": [
      "Model: \"rank_b_model\"\n",
      "_________________________________________________________________\n",
      "Layer (type)                 Output Shape              Param #   \n",
      "=================================================================\n",
      "rank_input (InputLayer)      [(None, 83)]              0         \n",
      "_________________________________________________________________\n",
      "middle_layer1 (Dense)        (None, 55)                4620      \n",
      "_________________________________________________________________\n",
      "middle_layer2 (Dropout)      (None, 55)                0         \n",
      "_________________________________________________________________\n",
      "rank_output (Dense)          (None, 1)                 56        \n",
      "=================================================================\n",
      "Total params: 4,676\n",
      "Trainable params: 4,676\n",
      "Non-trainable params: 0\n",
      "_________________________________________________________________\n"
     ]
    }
   ],
   "source": [
    "_rank_b_model = rank_model_helper._create_binary_crossentropy_model('rank_b_model')\n",
    "_rank_b_model.compile(optimizer='adam', loss='binary_crossentropy', metrics=['accuracy'])\n",
    "_rank_b_model.summary()"
   ]
  },
  {
   "cell_type": "code",
   "execution_count": 34,
   "metadata": {},
   "outputs": [
    {
     "name": "stdout",
     "output_type": "stream",
     "text": [
      "Model: \"rank_c_model\"\n",
      "_________________________________________________________________\n",
      "Layer (type)                 Output Shape              Param #   \n",
      "=================================================================\n",
      "rank_input (InputLayer)      [(None, 83)]              0         \n",
      "_________________________________________________________________\n",
      "middle_layer1 (Dense)        (None, 55)                4620      \n",
      "_________________________________________________________________\n",
      "middle_layer2 (Dropout)      (None, 55)                0         \n",
      "_________________________________________________________________\n",
      "rank_output (Dense)          (None, 1)                 56        \n",
      "=================================================================\n",
      "Total params: 4,676\n",
      "Trainable params: 4,676\n",
      "Non-trainable params: 0\n",
      "_________________________________________________________________\n"
     ]
    }
   ],
   "source": [
    "_rank_c_model = rank_model_helper._create_binary_crossentropy_model('rank_c_model')\n",
    "_rank_c_model.compile(optimizer='adam', loss='binary_crossentropy', metrics=['accuracy'])\n",
    "_rank_c_model.summary()"
   ]
  },
  {
   "cell_type": "code",
   "execution_count": 35,
   "metadata": {},
   "outputs": [
    {
     "name": "stdout",
     "output_type": "stream",
     "text": [
      "Model: \"rank_d_model\"\n",
      "_________________________________________________________________\n",
      "Layer (type)                 Output Shape              Param #   \n",
      "=================================================================\n",
      "rank_input (InputLayer)      [(None, 83)]              0         \n",
      "_________________________________________________________________\n",
      "middle_layer1 (Dense)        (None, 55)                4620      \n",
      "_________________________________________________________________\n",
      "middle_layer2 (Dropout)      (None, 55)                0         \n",
      "_________________________________________________________________\n",
      "rank_output (Dense)          (None, 1)                 56        \n",
      "=================================================================\n",
      "Total params: 4,676\n",
      "Trainable params: 4,676\n",
      "Non-trainable params: 0\n",
      "_________________________________________________________________\n"
     ]
    }
   ],
   "source": [
    "_rank_d_model = rank_model_helper._create_binary_crossentropy_model('rank_d_model')\n",
    "_rank_d_model.compile(optimizer='adam', loss='binary_crossentropy', metrics=['accuracy'])\n",
    "_rank_d_model.summary()"
   ]
  },
  {
   "cell_type": "code",
   "execution_count": 36,
   "metadata": {},
   "outputs": [
    {
     "name": "stdout",
     "output_type": "stream",
     "text": [
      "Model: \"rank_bar_model\"\n",
      "_________________________________________________________________\n",
      "Layer (type)                 Output Shape              Param #   \n",
      "=================================================================\n",
      "rank_input (InputLayer)      [(None, 83)]              0         \n",
      "_________________________________________________________________\n",
      "middle_layer1 (Dense)        (None, 55)                4620      \n",
      "_________________________________________________________________\n",
      "middle_layer2 (Dropout)      (None, 55)                0         \n",
      "_________________________________________________________________\n",
      "rank_output (Dense)          (None, 1)                 56        \n",
      "=================================================================\n",
      "Total params: 4,676\n",
      "Trainable params: 4,676\n",
      "Non-trainable params: 0\n",
      "_________________________________________________________________\n"
     ]
    }
   ],
   "source": [
    "_rank_bar_model = rank_model_helper._create_binary_crossentropy_model('rank_bar_model')\n",
    "_rank_bar_model.compile(optimizer='adam', loss='binary_crossentropy', metrics=['accuracy'])\n",
    "_rank_bar_model.summary()"
   ]
  },
  {
   "cell_type": "code",
   "execution_count": 37,
   "metadata": {
    "scrolled": true
   },
   "outputs": [
    {
     "name": "stdout",
     "output_type": "stream",
     "text": [
      "Epoch 1/20\n",
      "1370/1370 [==============================] - 4s 3ms/step - loss: 0.0911 - accuracy: 0.9725 - val_loss: 0.0436 - val_accuracy: 0.9802\n",
      "Epoch 2/20\n",
      "1370/1370 [==============================] - 4s 3ms/step - loss: 0.0174 - accuracy: 0.9956 - val_loss: 0.0229 - val_accuracy: 0.9908\n",
      "Epoch 3/20\n",
      "1370/1370 [==============================] - 4s 3ms/step - loss: 0.0095 - accuracy: 0.9977 - val_loss: 0.0148 - val_accuracy: 0.9954\n",
      "Epoch 4/20\n",
      "1370/1370 [==============================] - 4s 3ms/step - loss: 0.0052 - accuracy: 0.9991 - val_loss: 0.0118 - val_accuracy: 0.9963\n",
      "Epoch 5/20\n",
      "1370/1370 [==============================] - 4s 3ms/step - loss: 0.0032 - accuracy: 0.9995 - val_loss: 0.0078 - val_accuracy: 0.9981\n",
      "Epoch 6/20\n",
      "1370/1370 [==============================] - 4s 3ms/step - loss: 0.0020 - accuracy: 0.9996 - val_loss: 0.0044 - val_accuracy: 0.9991\n",
      "Epoch 7/20\n",
      "1370/1370 [==============================] - 4s 3ms/step - loss: 0.0012 - accuracy: 0.9998 - val_loss: 0.0024 - val_accuracy: 0.9993\n",
      "Epoch 8/20\n",
      "1370/1370 [==============================] - 4s 3ms/step - loss: 0.0010 - accuracy: 0.9998 - val_loss: 0.0033 - val_accuracy: 0.9993\n",
      "Epoch 9/20\n",
      "1370/1370 [==============================] - 4s 3ms/step - loss: 5.8884e-04 - accuracy: 0.9999 - val_loss: 9.8686e-04 - val_accuracy: 0.9999\n",
      "Epoch 10/20\n",
      "1370/1370 [==============================] - 4s 3ms/step - loss: 4.3407e-04 - accuracy: 1.0000 - val_loss: 0.0022 - val_accuracy: 0.9993\n",
      "Epoch 11/20\n",
      "1370/1370 [==============================] - 4s 3ms/step - loss: 2.9659e-04 - accuracy: 1.0000 - val_loss: 3.5691e-04 - val_accuracy: 1.0000\n",
      "Epoch 12/20\n",
      "1370/1370 [==============================] - 4s 3ms/step - loss: 3.2718e-04 - accuracy: 0.9999 - val_loss: 7.3535e-04 - val_accuracy: 0.9998\n",
      "Epoch 13/20\n",
      "1370/1370 [==============================] - 4s 3ms/step - loss: 1.6519e-04 - accuracy: 1.0000 - val_loss: 9.9012e-04 - val_accuracy: 0.9997\n",
      "Epoch 14/20\n",
      "1370/1370 [==============================] - 4s 3ms/step - loss: 3.1730e-04 - accuracy: 0.9999 - val_loss: 1.5150e-04 - val_accuracy: 1.0000\n",
      "Epoch 15/20\n",
      "1370/1370 [==============================] - 4s 3ms/step - loss: 1.2332e-04 - accuracy: 1.0000 - val_loss: 1.1178e-04 - val_accuracy: 1.0000\n",
      "Epoch 16/20\n",
      "1370/1370 [==============================] - 4s 3ms/step - loss: 2.0586e-04 - accuracy: 0.9999 - val_loss: 4.4581e-04 - val_accuracy: 0.9999\n",
      "Epoch 17/20\n",
      "1370/1370 [==============================] - 4s 3ms/step - loss: 7.8885e-05 - accuracy: 1.0000 - val_loss: 7.7864e-05 - val_accuracy: 1.0000\n",
      "Epoch 18/20\n",
      "1370/1370 [==============================] - 4s 3ms/step - loss: 1.2636e-04 - accuracy: 1.0000 - val_loss: 4.6652e-05 - val_accuracy: 1.0000\n",
      "Epoch 19/20\n",
      "1370/1370 [==============================] - 4s 3ms/step - loss: 9.7159e-05 - accuracy: 1.0000 - val_loss: 2.6938e-04 - val_accuracy: 0.9999\n",
      "Epoch 20/20\n",
      "1370/1370 [==============================] - 4s 3ms/step - loss: 3.3784e-05 - accuracy: 1.0000 - val_loss: 5.6642e-05 - val_accuracy: 1.0000\n"
     ]
    }
   ],
   "source": [
    "history_a = _rank_a_model.fit(train_dataset_a, validation_data=validation_dataset_a, epochs=epochs)"
   ]
  },
  {
   "cell_type": "code",
   "execution_count": 39,
   "metadata": {
    "scrolled": true
   },
   "outputs": [
    {
     "name": "stdout",
     "output_type": "stream",
     "text": [
      "Epoch 1/20\n",
      "1370/1370 [==============================] - 4s 3ms/step - loss: 0.2365 - accuracy: 0.9027 - val_loss: 0.2058 - val_accuracy: 0.9039\n",
      "Epoch 2/20\n",
      "1370/1370 [==============================] - 3s 2ms/step - loss: 0.1098 - accuracy: 0.9632 - val_loss: 0.1007 - val_accuracy: 0.9569\n",
      "Epoch 3/20\n",
      "1370/1370 [==============================] - 4s 3ms/step - loss: 0.0650 - accuracy: 0.9800 - val_loss: 0.0640 - val_accuracy: 0.9760\n",
      "Epoch 4/20\n",
      "1370/1370 [==============================] - 4s 3ms/step - loss: 0.0479 - accuracy: 0.9857 - val_loss: 0.0520 - val_accuracy: 0.9806\n",
      "Epoch 5/20\n",
      "1370/1370 [==============================] - 4s 3ms/step - loss: 0.0369 - accuracy: 0.9884 - val_loss: 0.0400 - val_accuracy: 0.9867\n",
      "Epoch 6/20\n",
      "1370/1370 [==============================] - 4s 3ms/step - loss: 0.0311 - accuracy: 0.9903 - val_loss: 0.0310 - val_accuracy: 0.9903\n",
      "Epoch 7/20\n",
      "1370/1370 [==============================] - 4s 3ms/step - loss: 0.0257 - accuracy: 0.9922 - val_loss: 0.0249 - val_accuracy: 0.9932\n",
      "Epoch 8/20\n",
      "1370/1370 [==============================] - 4s 3ms/step - loss: 0.0225 - accuracy: 0.9932 - val_loss: 0.0231 - val_accuracy: 0.9928\n",
      "Epoch 9/20\n",
      "1370/1370 [==============================] - 5s 3ms/step - loss: 0.0201 - accuracy: 0.9937 - val_loss: 0.0220 - val_accuracy: 0.9938\n",
      "Epoch 10/20\n",
      "1370/1370 [==============================] - 4s 3ms/step - loss: 0.0177 - accuracy: 0.9945 - val_loss: 0.0206 - val_accuracy: 0.9935\n",
      "Epoch 11/20\n",
      "1370/1370 [==============================] - 5s 4ms/step - loss: 0.0159 - accuracy: 0.9948 - val_loss: 0.0208 - val_accuracy: 0.9932\n",
      "Epoch 12/20\n",
      "1370/1370 [==============================] - 7s 5ms/step - loss: 0.0145 - accuracy: 0.9956 - val_loss: 0.0198 - val_accuracy: 0.9937\n",
      "Epoch 13/20\n",
      "1370/1370 [==============================] - 5s 3ms/step - loss: 0.0139 - accuracy: 0.9955 - val_loss: 0.0166 - val_accuracy: 0.9949\n",
      "Epoch 14/20\n",
      "1370/1370 [==============================] - 4s 3ms/step - loss: 0.0123 - accuracy: 0.9961 - val_loss: 0.0136 - val_accuracy: 0.9963\n",
      "Epoch 15/20\n",
      "1370/1370 [==============================] - 6s 4ms/step - loss: 0.0114 - accuracy: 0.9966 - val_loss: 0.0158 - val_accuracy: 0.9947\n",
      "Epoch 16/20\n",
      "1370/1370 [==============================] - 4s 3ms/step - loss: 0.0108 - accuracy: 0.9966 - val_loss: 0.0128 - val_accuracy: 0.9962\n",
      "Epoch 17/20\n",
      "1370/1370 [==============================] - 6s 4ms/step - loss: 0.0100 - accuracy: 0.9969 - val_loss: 0.0196 - val_accuracy: 0.9931\n",
      "Epoch 18/20\n",
      "1370/1370 [==============================] - 5s 3ms/step - loss: 0.0100 - accuracy: 0.9969 - val_loss: 0.0112 - val_accuracy: 0.9963\n",
      "Epoch 19/20\n",
      "1370/1370 [==============================] - 5s 4ms/step - loss: 0.0089 - accuracy: 0.9973 - val_loss: 0.0155 - val_accuracy: 0.9950\n",
      "Epoch 20/20\n",
      "1370/1370 [==============================] - 5s 3ms/step - loss: 0.0085 - accuracy: 0.9974 - val_loss: 0.0135 - val_accuracy: 0.9953\n"
     ]
    }
   ],
   "source": [
    "history_b = _rank_b_model.fit(train_dataset_b, validation_data=validation_dataset_b, epochs=epochs)"
   ]
  },
  {
   "cell_type": "code",
   "execution_count": 41,
   "metadata": {
    "scrolled": true
   },
   "outputs": [
    {
     "name": "stdout",
     "output_type": "stream",
     "text": [
      "Epoch 1/20\n",
      "1370/1370 [==============================] - 4s 3ms/step - loss: 0.2910 - accuracy: 0.8838 - val_loss: 0.4897 - val_accuracy: 0.8053\n",
      "Epoch 2/20\n",
      "1370/1370 [==============================] - 3s 3ms/step - loss: 0.1747 - accuracy: 0.9335 - val_loss: 0.3304 - val_accuracy: 0.8438\n",
      "Epoch 3/20\n",
      "1370/1370 [==============================] - 4s 3ms/step - loss: 0.1106 - accuracy: 0.9644 - val_loss: 0.2610 - val_accuracy: 0.8780\n",
      "Epoch 4/20\n",
      "1370/1370 [==============================] - 3s 2ms/step - loss: 0.0806 - accuracy: 0.9760 - val_loss: 0.2044 - val_accuracy: 0.9023\n",
      "Epoch 5/20\n",
      "1370/1370 [==============================] - 4s 3ms/step - loss: 0.0638 - accuracy: 0.9817 - val_loss: 0.1736 - val_accuracy: 0.9170\n",
      "Epoch 6/20\n",
      "1370/1370 [==============================] - 4s 3ms/step - loss: 0.0536 - accuracy: 0.9841 - val_loss: 0.1526 - val_accuracy: 0.9296\n",
      "Epoch 7/20\n",
      "1370/1370 [==============================] - 4s 3ms/step - loss: 0.0451 - accuracy: 0.9867 - val_loss: 0.1342 - val_accuracy: 0.9384\n",
      "Epoch 8/20\n",
      "1370/1370 [==============================] - 4s 3ms/step - loss: 0.0414 - accuracy: 0.9876 - val_loss: 0.0999 - val_accuracy: 0.9544\n",
      "Epoch 9/20\n",
      "1370/1370 [==============================] - 4s 3ms/step - loss: 0.0360 - accuracy: 0.9896 - val_loss: 0.1041 - val_accuracy: 0.9533\n",
      "Epoch 10/20\n",
      "1370/1370 [==============================] - 4s 3ms/step - loss: 0.0327 - accuracy: 0.9902 - val_loss: 0.0952 - val_accuracy: 0.9584\n",
      "Epoch 11/20\n",
      "1370/1370 [==============================] - 4s 3ms/step - loss: 0.0298 - accuracy: 0.9910 - val_loss: 0.0743 - val_accuracy: 0.9680\n",
      "Epoch 12/20\n",
      "1370/1370 [==============================] - 4s 3ms/step - loss: 0.0276 - accuracy: 0.9917 - val_loss: 0.0762 - val_accuracy: 0.9662\n",
      "Epoch 13/20\n",
      "1370/1370 [==============================] - 4s 3ms/step - loss: 0.0259 - accuracy: 0.9919 - val_loss: 0.0778 - val_accuracy: 0.9658\n",
      "Epoch 14/20\n",
      "1370/1370 [==============================] - 4s 3ms/step - loss: 0.0234 - accuracy: 0.9925 - val_loss: 0.0592 - val_accuracy: 0.9746\n",
      "Epoch 15/20\n",
      "1370/1370 [==============================] - 4s 3ms/step - loss: 0.0216 - accuracy: 0.9937 - val_loss: 0.0580 - val_accuracy: 0.9761\n",
      "Epoch 16/20\n",
      "1370/1370 [==============================] - 4s 3ms/step - loss: 0.0211 - accuracy: 0.9935 - val_loss: 0.0597 - val_accuracy: 0.9748\n",
      "Epoch 17/20\n",
      "1370/1370 [==============================] - 3s 2ms/step - loss: 0.0197 - accuracy: 0.9940 - val_loss: 0.0528 - val_accuracy: 0.9792\n",
      "Epoch 18/20\n",
      "1370/1370 [==============================] - 4s 3ms/step - loss: 0.0185 - accuracy: 0.9948 - val_loss: 0.0528 - val_accuracy: 0.9779\n",
      "Epoch 19/20\n",
      "1370/1370 [==============================] - 4s 3ms/step - loss: 0.0168 - accuracy: 0.9948 - val_loss: 0.0441 - val_accuracy: 0.9829\n",
      "Epoch 20/20\n",
      "1370/1370 [==============================] - 4s 3ms/step - loss: 0.0162 - accuracy: 0.9950 - val_loss: 0.0412 - val_accuracy: 0.9849\n"
     ]
    }
   ],
   "source": [
    "history_c = _rank_c_model.fit(train_dataset_c, validation_data=validation_dataset_c, epochs=epochs)"
   ]
  },
  {
   "cell_type": "code",
   "execution_count": 43,
   "metadata": {
    "scrolled": true
   },
   "outputs": [
    {
     "name": "stdout",
     "output_type": "stream",
     "text": [
      "Epoch 1/20\n",
      "1370/1370 [==============================] - 4s 3ms/step - loss: 0.3386 - accuracy: 0.8442 - val_loss: 0.4341 - val_accuracy: 0.7829\n",
      "Epoch 2/20\n",
      "1370/1370 [==============================] - 4s 3ms/step - loss: 0.2269 - accuracy: 0.9172 - val_loss: 0.3482 - val_accuracy: 0.8252\n",
      "Epoch 3/20\n",
      "1370/1370 [==============================] - 4s 3ms/step - loss: 0.1707 - accuracy: 0.9442 - val_loss: 0.2958 - val_accuracy: 0.8598\n",
      "Epoch 4/20\n",
      "1370/1370 [==============================] - 4s 3ms/step - loss: 0.1437 - accuracy: 0.9533 - val_loss: 0.2577 - val_accuracy: 0.8807\n",
      "Epoch 5/20\n",
      "1370/1370 [==============================] - 4s 3ms/step - loss: 0.1254 - accuracy: 0.9599 - val_loss: 0.2309 - val_accuracy: 0.8958\n",
      "Epoch 6/20\n",
      "1370/1370 [==============================] - 4s 3ms/step - loss: 0.1116 - accuracy: 0.9648 - val_loss: 0.2072 - val_accuracy: 0.9101\n",
      "Epoch 7/20\n",
      "1370/1370 [==============================] - 6s 4ms/step - loss: 0.1021 - accuracy: 0.9673 - val_loss: 0.1918 - val_accuracy: 0.9169\n",
      "Epoch 8/20\n",
      "1370/1370 [==============================] - 5s 4ms/step - loss: 0.0922 - accuracy: 0.9707 - val_loss: 0.1596 - val_accuracy: 0.9329\n",
      "Epoch 9/20\n",
      "1370/1370 [==============================] - 4s 3ms/step - loss: 0.0854 - accuracy: 0.9719 - val_loss: 0.1511 - val_accuracy: 0.9386\n",
      "Epoch 10/20\n",
      "1370/1370 [==============================] - 4s 3ms/step - loss: 0.0791 - accuracy: 0.9739 - val_loss: 0.1369 - val_accuracy: 0.9449\n",
      "Epoch 11/20\n",
      "1370/1370 [==============================] - 4s 3ms/step - loss: 0.0718 - accuracy: 0.9769 - val_loss: 0.1260 - val_accuracy: 0.9490\n",
      "Epoch 12/20\n",
      "1370/1370 [==============================] - 4s 3ms/step - loss: 0.0672 - accuracy: 0.9781 - val_loss: 0.1158 - val_accuracy: 0.9554\n",
      "Epoch 13/20\n",
      "1370/1370 [==============================] - 4s 3ms/step - loss: 0.0636 - accuracy: 0.9789 - val_loss: 0.1102 - val_accuracy: 0.9570\n",
      "Epoch 14/20\n",
      "1370/1370 [==============================] - 4s 3ms/step - loss: 0.0590 - accuracy: 0.9806 - val_loss: 0.1112 - val_accuracy: 0.9576\n",
      "Epoch 15/20\n",
      "1370/1370 [==============================] - 4s 3ms/step - loss: 0.0563 - accuracy: 0.9815 - val_loss: 0.1036 - val_accuracy: 0.9611\n",
      "Epoch 16/20\n",
      "1370/1370 [==============================] - 5s 4ms/step - loss: 0.0537 - accuracy: 0.9827 - val_loss: 0.0929 - val_accuracy: 0.9651\n",
      "Epoch 17/20\n",
      "1370/1370 [==============================] - 4s 3ms/step - loss: 0.0512 - accuracy: 0.9832 - val_loss: 0.0846 - val_accuracy: 0.9690\n",
      "Epoch 18/20\n",
      "1370/1370 [==============================] - 5s 3ms/step - loss: 0.0484 - accuracy: 0.9838 - val_loss: 0.0754 - val_accuracy: 0.9714\n",
      "Epoch 19/20\n",
      "1370/1370 [==============================] - 4s 3ms/step - loss: 0.0466 - accuracy: 0.9848 - val_loss: 0.0852 - val_accuracy: 0.9676\n",
      "Epoch 20/20\n",
      "1370/1370 [==============================] - 4s 3ms/step - loss: 0.0432 - accuracy: 0.9856 - val_loss: 0.0791 - val_accuracy: 0.9702\n"
     ]
    }
   ],
   "source": [
    "history_d = _rank_d_model.fit(train_dataset_d, validation_data=validation_dataset_d, epochs=epochs)"
   ]
  },
  {
   "cell_type": "code",
   "execution_count": 45,
   "metadata": {
    "scrolled": true
   },
   "outputs": [
    {
     "name": "stdout",
     "output_type": "stream",
     "text": [
      "Epoch 1/20\n",
      "1370/1370 [==============================] - 4s 3ms/step - loss: 0.1849 - accuracy: 0.9299 - val_loss: 0.3732 - val_accuracy: 0.8916\n",
      "Epoch 2/20\n",
      "1370/1370 [==============================] - 4s 3ms/step - loss: 0.0972 - accuracy: 0.9625 - val_loss: 0.2943 - val_accuracy: 0.9036\n",
      "Epoch 3/20\n",
      "1370/1370 [==============================] - 5s 3ms/step - loss: 0.0829 - accuracy: 0.9684 - val_loss: 0.2370 - val_accuracy: 0.9116\n",
      "Epoch 4/20\n",
      "1370/1370 [==============================] - 5s 4ms/step - loss: 0.0708 - accuracy: 0.9733 - val_loss: 0.2251 - val_accuracy: 0.9152\n",
      "Epoch 5/20\n",
      "1370/1370 [==============================] - 4s 3ms/step - loss: 0.0623 - accuracy: 0.9764 - val_loss: 0.1904 - val_accuracy: 0.9226\n",
      "Epoch 6/20\n",
      "1370/1370 [==============================] - 4s 3ms/step - loss: 0.0561 - accuracy: 0.9794 - val_loss: 0.1866 - val_accuracy: 0.9243\n",
      "Epoch 7/20\n",
      "1370/1370 [==============================] - 4s 3ms/step - loss: 0.0511 - accuracy: 0.9812 - val_loss: 0.1666 - val_accuracy: 0.9285\n",
      "Epoch 8/20\n",
      "1370/1370 [==============================] - 4s 3ms/step - loss: 0.0464 - accuracy: 0.9830 - val_loss: 0.1498 - val_accuracy: 0.9345\n",
      "Epoch 9/20\n",
      "1370/1370 [==============================] - 4s 3ms/step - loss: 0.0426 - accuracy: 0.9840 - val_loss: 0.1431 - val_accuracy: 0.9372\n",
      "Epoch 10/20\n",
      "1370/1370 [==============================] - 4s 3ms/step - loss: 0.0398 - accuracy: 0.9852 - val_loss: 0.1387 - val_accuracy: 0.9411\n",
      "Epoch 11/20\n",
      "1370/1370 [==============================] - 4s 3ms/step - loss: 0.0369 - accuracy: 0.9864 - val_loss: 0.1355 - val_accuracy: 0.9419\n",
      "Epoch 12/20\n",
      "1370/1370 [==============================] - 4s 3ms/step - loss: 0.0352 - accuracy: 0.9870 - val_loss: 0.1324 - val_accuracy: 0.9457\n",
      "Epoch 13/20\n",
      "1370/1370 [==============================] - 4s 3ms/step - loss: 0.0332 - accuracy: 0.9875 - val_loss: 0.1033 - val_accuracy: 0.9548\n",
      "Epoch 14/20\n",
      "1370/1370 [==============================] - 5s 3ms/step - loss: 0.0313 - accuracy: 0.9886 - val_loss: 0.1013 - val_accuracy: 0.9555\n",
      "Epoch 15/20\n",
      "1370/1370 [==============================] - 4s 3ms/step - loss: 0.0295 - accuracy: 0.9894 - val_loss: 0.1062 - val_accuracy: 0.9545\n",
      "Epoch 16/20\n",
      "1370/1370 [==============================] - 4s 3ms/step - loss: 0.0280 - accuracy: 0.9895 - val_loss: 0.0975 - val_accuracy: 0.9588\n",
      "Epoch 17/20\n",
      "1370/1370 [==============================] - 4s 3ms/step - loss: 0.0259 - accuracy: 0.9908 - val_loss: 0.0904 - val_accuracy: 0.9630\n",
      "Epoch 18/20\n",
      "1370/1370 [==============================] - 5s 3ms/step - loss: 0.0247 - accuracy: 0.9915 - val_loss: 0.0855 - val_accuracy: 0.9637\n",
      "Epoch 19/20\n",
      "1370/1370 [==============================] - 4s 3ms/step - loss: 0.0243 - accuracy: 0.9914 - val_loss: 0.0822 - val_accuracy: 0.9644\n",
      "Epoch 20/20\n",
      "1370/1370 [==============================] - 4s 3ms/step - loss: 0.0221 - accuracy: 0.9922 - val_loss: 0.0839 - val_accuracy: 0.9636\n"
     ]
    }
   ],
   "source": [
    "history_bar = _rank_bar_model.fit(train_dataset_bar, validation_data=validation_dataset_bar, epochs=epochs)"
   ]
  },
  {
   "cell_type": "code",
   "execution_count": 82,
   "metadata": {},
   "outputs": [],
   "source": [
    "_rank_a_model.save('C:/Work/PythonShizai/07_src/C7013/data/rank_model/a/')\n",
    "_rank_b_model.save('C:/Work/PythonShizai/07_src/C7013/data/rank_model/b/')\n",
    "_rank_c_model.save('C:/Work/PythonShizai/07_src/C7013/data/rank_model/c/')\n",
    "_rank_d_model.save('C:/Work/PythonShizai/07_src/C7013/data/rank_model/d/')\n",
    "_rank_bar_model.save('C:/Work/PythonShizai/07_src/C7013/data/rank_model/bar/')"
   ]
  },
  {
   "cell_type": "code",
   "execution_count": null,
   "metadata": {},
   "outputs": [],
   "source": []
  }
 ],
 "metadata": {
  "kernelspec": {
   "display_name": "Python 3",
   "language": "python",
   "name": "python3"
  },
  "language_info": {
   "codemirror_mode": {
    "name": "ipython",
    "version": 3
   },
   "file_extension": ".py",
   "mimetype": "text/x-python",
   "name": "python",
   "nbconvert_exporter": "python",
   "pygments_lexer": "ipython3",
   "version": "3.7.9"
  }
 },
 "nbformat": 4,
 "nbformat_minor": 4
}
