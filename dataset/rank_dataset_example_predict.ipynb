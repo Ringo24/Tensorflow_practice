{
 "cells": [
  {
   "cell_type": "code",
   "execution_count": 1,
   "metadata": {},
   "outputs": [],
   "source": [
    "import sys\n",
    "sys.path.append('C:/Work/pythonshizai/07_src')"
   ]
  },
  {
   "cell_type": "code",
   "execution_count": 2,
   "metadata": {},
   "outputs": [],
   "source": [
    "import numpy as np\n",
    "import pandas as pd\n",
    "import argparse\n",
    "import inject\n",
    "import sys\n",
    "import os\n",
    "from configparser import ConfigParser"
   ]
  },
  {
   "cell_type": "code",
   "execution_count": 3,
   "metadata": {},
   "outputs": [],
   "source": [
    "import tensorflow as tf"
   ]
  },
  {
   "cell_type": "code",
   "execution_count": 4,
   "metadata": {},
   "outputs": [],
   "source": [
    "from C7013.lib import const, message\n",
    "from C7013.lib.C7013_04_rank_training_task import C7013_04_rank_training_task\n",
    "from C7013.lib.rank_model_helper import RankModelHelper\n",
    "from C7013.lib.rank_model_helper import RankTrainingGenerator\n",
    "from C7013.lib.C7013_04_rank_flag_forced_correction_task import C7013_04_rank_flag_forced_correction_task \n",
    "from C7013.lib import rank_utils\n",
    "from C7013.lib import onehot_utils"
   ]
  },
  {
   "cell_type": "code",
   "execution_count": 5,
   "metadata": {},
   "outputs": [
    {
     "name": "stdout",
     "output_type": "stream",
     "text": [
      "ランク検証タスクを実行します。\n"
     ]
    }
   ],
   "source": [
    "print('ランク検証タスクを実行します。')"
   ]
  },
  {
   "cell_type": "code",
   "execution_count": 6,
   "metadata": {},
   "outputs": [],
   "source": [
    "rank_model_helper: RankModelHelper = RankModelHelper()"
   ]
  },
  {
   "cell_type": "code",
   "execution_count": 7,
   "metadata": {},
   "outputs": [],
   "source": [
    "batch_size = const.APP_CONFIG['rank_config']['batch_size']"
   ]
  },
  {
   "cell_type": "code",
   "execution_count": 8,
   "metadata": {},
   "outputs": [],
   "source": [
    "SHUFFLE_BUFFER_SIZE = 100"
   ]
  },
  {
   "cell_type": "code",
   "execution_count": 10,
   "metadata": {},
   "outputs": [],
   "source": [
    "rank_a_model = tf.keras.models.load_model('C:/Work/PythonShizai/07_src/C7013/data/rank_model/a/', compile=True)\n",
    "rank_b_model = tf.keras.models.load_model('C:/Work/PythonShizai/07_src/C7013/data/rank_model/b/', compile=True)\n",
    "rank_c_model = tf.keras.models.load_model('C:/Work/PythonShizai/07_src/C7013/data/rank_model/c/', compile=True)\n",
    "rank_d_model = tf.keras.models.load_model('C:/Work/PythonShizai/07_src/C7013/data/rank_model/d/', compile=True)\n",
    "rank_bar_model = tf.keras.models.load_model('C:/Work/PythonShizai/07_src/C7013/data/rank_model/bar/', compile=True)"
   ]
  },
  {
   "cell_type": "code",
   "execution_count": 11,
   "metadata": {},
   "outputs": [
    {
     "name": "stdout",
     "output_type": "stream",
     "text": [
      "Model: \"rank_a_model\"\n",
      "_________________________________________________________________\n",
      "Layer (type)                 Output Shape              Param #   \n",
      "=================================================================\n",
      "rank_input (InputLayer)      [(None, 83)]              0         \n",
      "_________________________________________________________________\n",
      "middle_layer1 (Dense)        (None, 55)                4620      \n",
      "_________________________________________________________________\n",
      "middle_layer2 (Dropout)      (None, 55)                0         \n",
      "_________________________________________________________________\n",
      "rank_output (Dense)          (None, 1)                 56        \n",
      "=================================================================\n",
      "Total params: 4,676\n",
      "Trainable params: 4,676\n",
      "Non-trainable params: 0\n",
      "_________________________________________________________________\n"
     ]
    }
   ],
   "source": [
    "rank_a_model.summary()"
   ]
  },
  {
   "cell_type": "code",
   "execution_count": null,
   "metadata": {},
   "outputs": [],
   "source": []
  },
  {
   "cell_type": "code",
   "execution_count": 12,
   "metadata": {},
   "outputs": [],
   "source": [
    "test_file_path = 'C:/Work/PythonShizai/07_src/C7013/data/rank_verification.csv'"
   ]
  },
  {
   "cell_type": "code",
   "execution_count": 13,
   "metadata": {},
   "outputs": [
    {
     "name": "stdout",
     "output_type": "stream",
     "text": [
      "[2021-03-03 17:39:59,152][INFO    ](C7013_04_rank_flag_forced_correction_task.py:37) フラグ強制補正タスクを実行します。\n"
     ]
    }
   ],
   "source": [
    "test_data = pd.read_csv(test_file_path, sep=',', encoding='utf-8')\n",
    "if test_data.empty:\n",
    "    raise RuntimeError(f\"データが存在しません。file_path={test_file_path}\")\n",
    "flag_forced_correction = C7013_04_rank_flag_forced_correction_task()\n",
    "_test_data: pd.DataFrame = flag_forced_correction.execute(test_data)"
   ]
  },
  {
   "cell_type": "code",
   "execution_count": 14,
   "metadata": {},
   "outputs": [],
   "source": [
    "test_examples = rank_utils.input_data_transform(_test_data)"
   ]
  },
  {
   "cell_type": "code",
   "execution_count": 15,
   "metadata": {},
   "outputs": [],
   "source": [
    "target_onehot = rank_utils.target_data_transform(_test_data)"
   ]
  },
  {
   "cell_type": "code",
   "execution_count": 16,
   "metadata": {},
   "outputs": [],
   "source": [
    "test_labels_a = target_onehot[:,0:1]\n",
    "test_labels_b = target_onehot[:,1:2]\n",
    "test_labels_c = target_onehot[:,2:3]\n",
    "test_labels_d = target_onehot[:,3:4]\n",
    "test_labels_bar = target_onehot[:,4:5]"
   ]
  },
  {
   "cell_type": "code",
   "execution_count": 17,
   "metadata": {},
   "outputs": [
    {
     "data": {
      "text/plain": [
       "(21516, 1)"
      ]
     },
     "execution_count": 17,
     "metadata": {},
     "output_type": "execute_result"
    }
   ],
   "source": [
    "test_labels_a.shape"
   ]
  },
  {
   "cell_type": "code",
   "execution_count": 18,
   "metadata": {},
   "outputs": [],
   "source": [
    "test_dataset_a = tf.data.Dataset.from_tensor_slices((test_examples, test_labels_a))\n",
    "test_dataset_b = tf.data.Dataset.from_tensor_slices((test_examples, test_labels_b))\n",
    "test_dataset_c = tf.data.Dataset.from_tensor_slices((test_examples, test_labels_c))\n",
    "test_dataset_d = tf.data.Dataset.from_tensor_slices((test_examples, test_labels_d))\n",
    "test_dataset_bar = tf.data.Dataset.from_tensor_slices((test_examples, test_labels_bar))"
   ]
  },
  {
   "cell_type": "code",
   "execution_count": 19,
   "metadata": {},
   "outputs": [],
   "source": [
    "test_dataset_a = test_dataset_a.batch(batch_size)\n",
    "test_dataset_b = test_dataset_b.batch(batch_size)\n",
    "test_dataset_c = test_dataset_c.batch(batch_size)\n",
    "test_dataset_d = test_dataset_d.batch(batch_size)\n",
    "test_dataset_bar = test_dataset_bar.batch(batch_size)"
   ]
  },
  {
   "cell_type": "code",
   "execution_count": 27,
   "metadata": {},
   "outputs": [
    {
     "name": "stdout",
     "output_type": "stream",
     "text": [
      "673/673 [==============================] - 1s 2ms/step - loss: 1.1025e-04 - accuracy: 0.9999\n"
     ]
    },
    {
     "data": {
      "text/plain": [
       "[0.00011025253479601815, 0.9999070167541504]"
      ]
     },
     "execution_count": 27,
     "metadata": {},
     "output_type": "execute_result"
    }
   ],
   "source": [
    "rank_a_model.evaluate(test_dataset_a)"
   ]
  },
  {
   "cell_type": "code",
   "execution_count": 28,
   "metadata": {},
   "outputs": [
    {
     "name": "stdout",
     "output_type": "stream",
     "text": [
      "673/673 [==============================] - 1s 2ms/step - loss: 0.0109 - accuracy: 0.9962\n"
     ]
    },
    {
     "data": {
      "text/plain": [
       "[0.01089794933795929, 0.9962353706359863]"
      ]
     },
     "execution_count": 28,
     "metadata": {},
     "output_type": "execute_result"
    }
   ],
   "source": [
    "rank_b_model.evaluate(test_dataset_b)"
   ]
  },
  {
   "cell_type": "code",
   "execution_count": 29,
   "metadata": {},
   "outputs": [
    {
     "name": "stdout",
     "output_type": "stream",
     "text": [
      "673/673 [==============================] - 1s 1ms/step - loss: 0.0534 - accuracy: 0.9792\n"
     ]
    },
    {
     "data": {
      "text/plain": [
       "[0.0533558651804924, 0.9791783094406128]"
      ]
     },
     "execution_count": 29,
     "metadata": {},
     "output_type": "execute_result"
    }
   ],
   "source": [
    "rank_c_model.evaluate(test_dataset_c)"
   ]
  },
  {
   "cell_type": "code",
   "execution_count": 30,
   "metadata": {},
   "outputs": [
    {
     "name": "stdout",
     "output_type": "stream",
     "text": [
      "673/673 [==============================] - 1s 2ms/step - loss: 0.0825 - accuracy: 0.9687\n"
     ]
    },
    {
     "data": {
      "text/plain": [
       "[0.08246687799692154, 0.9687209725379944]"
      ]
     },
     "execution_count": 30,
     "metadata": {},
     "output_type": "execute_result"
    }
   ],
   "source": [
    "rank_d_model.evaluate(test_dataset_d)"
   ]
  },
  {
   "cell_type": "code",
   "execution_count": 31,
   "metadata": {},
   "outputs": [
    {
     "name": "stdout",
     "output_type": "stream",
     "text": [
      "673/673 [==============================] - 1s 1ms/step - loss: 0.0549 - accuracy: 0.9779\n"
     ]
    },
    {
     "data": {
      "text/plain": [
       "[0.054949283599853516, 0.9779233932495117]"
      ]
     },
     "execution_count": 31,
     "metadata": {},
     "output_type": "execute_result"
    }
   ],
   "source": [
    "rank_bar_model.evaluate(test_dataset_bar)"
   ]
  },
  {
   "cell_type": "code",
   "execution_count": 20,
   "metadata": {},
   "outputs": [
    {
     "name": "stdout",
     "output_type": "stream",
     "text": [
      "673/673 [==============================] - 1s 1ms/step\n"
     ]
    }
   ],
   "source": [
    "rank_a_predict = np.round(rank_a_model.predict(test_dataset_a, verbose=1)).astype(np.int32)"
   ]
  },
  {
   "cell_type": "code",
   "execution_count": 21,
   "metadata": {
    "scrolled": true
   },
   "outputs": [
    {
     "name": "stdout",
     "output_type": "stream",
     "text": [
      "673/673 [==============================] - 1s 1ms/step\n"
     ]
    }
   ],
   "source": [
    "rank_b_predict = np.round(rank_b_model.predict(test_dataset_b, verbose=1)).astype(np.int32)"
   ]
  },
  {
   "cell_type": "code",
   "execution_count": 22,
   "metadata": {
    "scrolled": true
   },
   "outputs": [
    {
     "name": "stdout",
     "output_type": "stream",
     "text": [
      "673/673 [==============================] - 1s 1ms/step\n"
     ]
    }
   ],
   "source": [
    "rank_c_predict = np.round(rank_c_model.predict(test_dataset_c, verbose=1)).astype(np.int32)"
   ]
  },
  {
   "cell_type": "code",
   "execution_count": 23,
   "metadata": {
    "scrolled": true
   },
   "outputs": [
    {
     "name": "stdout",
     "output_type": "stream",
     "text": [
      "673/673 [==============================] - 1s 1ms/step\n"
     ]
    }
   ],
   "source": [
    "rank_d_predict = np.round(rank_d_model.predict(test_dataset_d, verbose=1)).astype(np.int32)"
   ]
  },
  {
   "cell_type": "code",
   "execution_count": 24,
   "metadata": {
    "scrolled": true
   },
   "outputs": [
    {
     "name": "stdout",
     "output_type": "stream",
     "text": [
      "673/673 [==============================] - 1s 1ms/step\n"
     ]
    }
   ],
   "source": [
    "rank_bar_predict = np.round(rank_bar_model.predict(test_dataset_bar, verbose=1)).astype(np.int32)"
   ]
  },
  {
   "cell_type": "code",
   "execution_count": 25,
   "metadata": {},
   "outputs": [],
   "source": [
    "result = rank_utils.decide_rank(rank_a_predict, rank_b_predict, rank_c_predict, rank_d_predict, rank_bar_predict)"
   ]
  },
  {
   "cell_type": "code",
   "execution_count": 26,
   "metadata": {},
   "outputs": [
    {
     "data": {
      "text/plain": [
       "array([500, 500,   0, ..., 500, 500, 500])"
      ]
     },
     "execution_count": 26,
     "metadata": {},
     "output_type": "execute_result"
    }
   ],
   "source": [
    "result"
   ]
  },
  {
   "cell_type": "code",
   "execution_count": null,
   "metadata": {},
   "outputs": [],
   "source": []
  }
 ],
 "metadata": {
  "kernelspec": {
   "display_name": "Python 3",
   "language": "python",
   "name": "python3"
  },
  "language_info": {
   "codemirror_mode": {
    "name": "ipython",
    "version": 3
   },
   "file_extension": ".py",
   "mimetype": "text/x-python",
   "name": "python",
   "nbconvert_exporter": "python",
   "pygments_lexer": "ipython3",
   "version": "3.7.9"
  }
 },
 "nbformat": 4,
 "nbformat_minor": 4
}
